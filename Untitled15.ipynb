{
 "cells": [
  {
   "cell_type": "markdown",
   "id": "a65603ce",
   "metadata": {},
   "source": [
    "# python basics- practice problem"
   ]
  },
  {
   "cell_type": "code",
   "execution_count": 1,
   "id": "f2f90b87",
   "metadata": {},
   "outputs": [
    {
     "name": "stdout",
     "output_type": "stream",
     "text": [
      "Enter the radius:  3 \n",
      "Area of Circle is 28.27433388231\n"
     ]
    }
   ],
   "source": [
    "import math\n",
    "\n",
    "def calculate_circle_area(radius):\n",
    "    return math.pi * radius**2\n",
    "\n",
    "def main():\n",
    "    try:\n",
    "        radius = float(input(\"Enter the radius: \"))\n",
    "        if radius < 0:\n",
    "            print(\"Radius cannot be negative.\")\n",
    "        else:\n",
    "            area = calculate_circle_area(radius)\n",
    "            print(f\"Area of Circle is {area:.11f}\")\n",
    "    except ValueError:\n",
    "        print(\"Invalid input. Please enter a valid number for the radius.\")\n",
    "\n",
    "if __name__ == \"__main__\":\n",
    "    main()"
   ]
  },
  {
   "cell_type": "code",
   "execution_count": 2,
   "id": "41695382",
   "metadata": {},
   "outputs": [
    {
     "name": "stdout",
     "output_type": "stream",
     "text": [
      "Enter the name: Anisha\n",
      "Enter the roll number:  21\n",
      "Enter the mark: : 78\n",
      "Name: Anisha\n",
      "Roll No:  21\n",
      "Mark: : 78\n"
     ]
    }
   ],
   "source": [
    "def main():\n",
    "    name = input(\"Enter the name: \")\n",
    "    roll_number = input(\"Enter the roll number: \")\n",
    "    mark = input(\"Enter the mark: \")\n",
    "\n",
    "    print(\"Name:\", name)\n",
    "    print(\"Roll No:\", roll_number)\n",
    "    print(\"Mark:\", mark)\n",
    "\n",
    "if __name__ == \"__main__\":\n",
    "    main()"
   ]
  },
  {
   "cell_type": "code",
   "execution_count": 3,
   "id": "2a5f8600",
   "metadata": {},
   "outputs": [
    {
     "name": "stdout",
     "output_type": "stream",
     "text": [
      "Enter a list of numbers separated by commas: 12, 3, 47, 10\n",
      "47 is the largest number.\n"
     ]
    }
   ],
   "source": [
    "def get_largest_number(numbers):\n",
    "    if not numbers:\n",
    "        return None\n",
    "    else:\n",
    "        largest = numbers[0]\n",
    "        for num in numbers:\n",
    "            if num > largest:\n",
    "                largest = num\n",
    "        return largest\n",
    "\n",
    "def main():\n",
    "    try:\n",
    "        input_str = input(\"Enter a list of numbers separated by commas: \")\n",
    "        numbers = [int(x.strip()) for x in input_str.split(\",\")]\n",
    "        largest_number = get_largest_number(numbers)\n",
    "        if largest_number is not None:\n",
    "            print(f\"{largest_number} is the largest number.\")\n",
    "        else:\n",
    "            print(\"The list is empty.\")\n",
    "    except ValueError:\n",
    "        print(\"Invalid input. Please enter numbers separated by commas.\")\n",
    "if __name__ == \"__main__\":\n",
    "    main()"
   ]
  },
  {
   "cell_type": "code",
   "execution_count": 4,
   "id": "ef8d01b4",
   "metadata": {},
   "outputs": [
    {
     "name": "stdout",
     "output_type": "stream",
     "text": [
      "Current Number 1 Previous Number 0 Sum: 1\n",
      "Current Number 2 Previous Number 1 Sum: 3\n",
      "Current Number 3 Previous Number 2 Sum: 5\n",
      "Current Number 4 Previous Number 3 Sum: 7\n",
      "Current Number 5 Previous Number 4 Sum: 9\n",
      "Current Number 6 Previous Number 5 Sum: 11\n",
      "Current Number 7 Previous Number 6 Sum: 13\n",
      "Current Number 8 Previous Number 7 Sum: 15\n",
      "Current Number 9 Previous Number 8 Sum: 17\n",
      "Current Number 10 Previous Number 9 Sum: 19\n"
     ]
    }
   ],
   "source": [
    "def main():\n",
    "    previous_number = 0\n",
    "    for current_number in range(1, 11):\n",
    "        current_sum = current_number + previous_number\n",
    "        print(f\"Current Number {current_number} Previous Number {previous_number} Sum: {current_sum}\")\n",
    "        previous_number = current_number\n",
    "\n",
    "if __name__ == \"__main__\":\n",
    "    main()\n",
    "    "
   ]
  },
  {
   "cell_type": "code",
   "execution_count": 5,
   "id": "7f74ec05",
   "metadata": {},
   "outputs": [
    {
     "name": "stdout",
     "output_type": "stream",
     "text": [
      "Enter a list of numbers separated by commas:  10, 20,33,46,55\n",
      "Numbers divisible by 5: 10, 20, 55\n"
     ]
    }
   ],
   "source": [
    "def main():\n",
    "    input_str = input(\"Enter a list of numbers separated by commas: \")\n",
    "    numbers = [int(x.strip()) for x in input_str.split(\",\")]\n",
    "    \n",
    "    divisible_by_5 = [num for num in numbers if num % 5 == 0]\n",
    "    \n",
    "    print(\"Numbers divisible by 5:\", \", \".join(map(str, divisible_by_5)))\n",
    "\n",
    "if __name__ == \"__main__\":\n",
    "    main()\n"
   ]
  },
  {
   "cell_type": "markdown",
   "id": "5818946d",
   "metadata": {},
   "source": [
    "# practice problem 2"
   ]
  },
  {
   "cell_type": "code",
   "execution_count": 6,
   "id": "475a655f",
   "metadata": {},
   "outputs": [
    {
     "name": "stdout",
     "output_type": "stream",
     "text": [
      "Enter a string value:  assembly\n",
      "Sample output:  =1, a=1, s=2, e=1, m=1, b=1, l=1, y=1\n"
     ]
    }
   ],
   "source": [
    "def count_characters(string):\n",
    "    char_count = {}\n",
    "    for char in string:\n",
    "        char_count[char] = char_count.get(char, 0) + 1\n",
    "    return char_count\n",
    "\n",
    "def main():\n",
    "    input_string = input(\"Enter a string value: \")\n",
    "    character_count = count_characters(input_string)\n",
    "    \n",
    "    output = \", \".join([f\"{char}={count}\" for char, count in character_count.items()])\n",
    "    print(\"Sample output:\", output)\n",
    "\n",
    "if __name__ == \"__main__\":\n",
    "    main()"
   ]
  },
  {
   "cell_type": "code",
   "execution_count": 7,
   "id": "768261da",
   "metadata": {},
   "outputs": [
    {
     "name": "stdout",
     "output_type": "stream",
     "text": [
      "Enter three numbers separated by commas:  34,12,7\n",
      "Maximum of the three numbers: 34\n"
     ]
    }
   ],
   "source": [
    "def find_maximum(num1, num2, num3):\n",
    "    return max(num1, num2, num3)\n",
    "\n",
    "def main():\n",
    "    try:\n",
    "        num1, num2, num3 = map(int, input(\"Enter three numbers separated by commas: \").split(\",\"))\n",
    "        maximum = find_maximum(num1, num2, num3)\n",
    "        print(\"Maximum of the three numbers:\", maximum)\n",
    "    except ValueError:\n",
    "        print(\"Invalid input. Please enter three valid numbers separated by commas.\")\n",
    "\n",
    "if __name__ == \"__main__\":\n",
    "    main()"
   ]
  },
  {
   "cell_type": "code",
   "execution_count": 8,
   "id": "13a63e4c",
   "metadata": {},
   "outputs": [
    {
     "name": "stdout",
     "output_type": "stream",
     "text": [
      "Enter the base: 2\n",
      "Enter the exponent: 3\n",
      "2.0 raised to the power of 3 is: 8.0\n"
     ]
    }
   ],
   "source": [
    "def exponent(base, exp):\n",
    "    return base ** exp\n",
    "\n",
    "def main():\n",
    "    try:\n",
    "        base = float(input(\"Enter the base: \"))\n",
    "        exp = int(input(\"Enter the exponent: \"))\n",
    "        result = exponent(base, exp)\n",
    "        print(f\"{base} raised to the power of {exp} is: {result}\")\n",
    "    except ValueError:\n",
    "        print(\"Invalid input. Please enter valid numbers.\")\n",
    "\n",
    "if __name__ == \"__main__\":\n",
    "    main()"
   ]
  },
  {
   "cell_type": "code",
   "execution_count": 9,
   "id": "519937bd",
   "metadata": {},
   "outputs": [
    {
     "name": "stdout",
     "output_type": "stream",
     "text": [
      "Enter a positive integer: 4\n",
      "The sum of the cubes of all positive integers smaller than 4 is: 36\n"
     ]
    }
   ],
   "source": [
    "def sum_of_cubes(n):\n",
    "    if n <= 0:\n",
    "        return \"Input must be a positive integer.\"\n",
    "    \n",
    "    sum_cubes = sum([i**3 for i in range(1, n)])\n",
    "    return sum_cubes\n",
    "\n",
    "def main():\n",
    "    try:\n",
    "        num = int(input(\"Enter a positive integer: \"))\n",
    "        result = sum_of_cubes(num)\n",
    "        print(f\"The sum of the cubes of all positive integers smaller than {num} is: {result}\")\n",
    "    except ValueError:\n",
    "        print(\"Invalid input. Please enter a valid positive integer.\")\n",
    "\n",
    "if __name__ == \"__main__\":\n",
    "    main()"
   ]
  },
  {
   "cell_type": "code",
   "execution_count": 10,
   "id": "dcb3fe8e",
   "metadata": {},
   "outputs": [
    {
     "name": "stdout",
     "output_type": "stream",
     "text": [
      "1\n",
      "Fizz\n",
      "3\n",
      "Fizz\n",
      "Buzz\n",
      "Fizz\n",
      "7\n",
      "Fizz\n",
      "9\n",
      "FizzBuzz\n"
     ]
    }
   ],
   "source": [
    "def fizz_buzz():\n",
    "    for num in range(1, 11):\n",
    "        if num % 2 == 0 and num % 5 == 0:\n",
    "            print(\"FizzBuzz\")\n",
    "        elif num % 2 == 0:\n",
    "            print(\"Fizz\")\n",
    "        elif num % 5 == 0:\n",
    "            print(\"Buzz\")\n",
    "        else:\n",
    "            print(num)\n",
    "\n",
    "def main():\n",
    "    fizz_buzz()\n",
    "\n",
    "if __name__ == \"__main__\":\n",
    "    main()"
   ]
  },
  {
   "cell_type": "code",
   "execution_count": 11,
   "id": "e3b3ee9c",
   "metadata": {},
   "outputs": [
    {
     "name": "stdout",
     "output_type": "stream",
     "text": [
      "Enter a list of numbers separated by commas: 2, 3, 4, 2, 5, 2\n",
      "Most frequent item: 2\n"
     ]
    }
   ],
   "source": [
    "from collections import Counter\n",
    "\n",
    "def most_frequent_item(numbers):\n",
    "    # Count the occurrences of each item in the list\n",
    "    counts = Counter(numbers)\n",
    "    # Find the most common item\n",
    "    most_common_item = counts.most_common(1)[0][0]\n",
    "    return most_common_item\n",
    "\n",
    "def main():\n",
    "    input_str = input(\"Enter a list of numbers separated by commas: \")\n",
    "    numbers = [int(x.strip()) for x in input_str.split(\",\")]\n",
    "    \n",
    "    most_frequent = most_frequent_item(numbers)\n",
    "    print(\"Most frequent item:\", most_frequent)\n",
    "\n",
    "if __name__ == \"__main__\":\n",
    "    main()"
   ]
  },
  {
   "cell_type": "code",
   "execution_count": 12,
   "id": "4205c531",
   "metadata": {},
   "outputs": [
    {
     "name": "stdout",
     "output_type": "stream",
     "text": [
      "Enter a list of numbers separated by commas: 2,1,3,1\n",
      "Sum of squares of the numbers: 15\n"
     ]
    }
   ],
   "source": [
    "def sum_of_squares(numbers):\n",
    "    sum_squares = sum(num**2 for num in numbers)\n",
    "    return sum_squares\n",
    "\n",
    "def main():\n",
    "    input_str = input(\"Enter a list of numbers separated by commas: \")\n",
    "    numbers = [int(x.strip()) for x in input_str.split(\",\")]\n",
    "    \n",
    "    sum_squares = sum_of_squares(numbers)\n",
    "    print(\"Sum of squares of the numbers:\", sum_squares)\n",
    "\n",
    "if __name__ == \"__main__\":\n",
    "    main()\n",
    "    "
   ]
  },
  {
   "cell_type": "code",
   "execution_count": 13,
   "id": "c95cbb05",
   "metadata": {},
   "outputs": [
    {
     "name": "stdout",
     "output_type": "stream",
     "text": [
      "1-odd\n",
      "2-even\n",
      "3-odd\n",
      "4-even\n",
      "5-odd\n",
      "6-even\n",
      "7-odd\n",
      "8-even\n",
      "9-odd\n",
      "10-even\n",
      "11-odd\n",
      "12-even\n",
      "13-odd\n",
      "14-even\n",
      "15-odd\n"
     ]
    }
   ],
   "source": [
    "def main():\n",
    "    for num in range(1, 16):\n",
    "        if num % 2 == 0:\n",
    "            print(f\"{num}-even\")\n",
    "        else:\n",
    "            print(f\"{num}-odd\")\n",
    "\n",
    "if __name__ == \"__main__\":\n",
    "    main()"
   ]
  },
  {
   "cell_type": "code",
   "execution_count": null,
   "id": "019ba211",
   "metadata": {},
   "outputs": [],
   "source": []
  }
 ],
 "metadata": {
  "kernelspec": {
   "display_name": "Python 3",
   "language": "python",
   "name": "python3"
  },
  "language_info": {
   "codemirror_mode": {
    "name": "ipython",
    "version": 3
   },
   "file_extension": ".py",
   "mimetype": "text/x-python",
   "name": "python",
   "nbconvert_exporter": "python",
   "pygments_lexer": "ipython3",
   "version": "3.11.5"
  }
 },
 "nbformat": 4,
 "nbformat_minor": 5
}
