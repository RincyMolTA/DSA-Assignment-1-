{
 "cells": [
  {
   "cell_type": "markdown",
   "id": "a0893613",
   "metadata": {},
   "source": [
    "# Python practice problem 1"
   ]
  },
  {
   "cell_type": "code",
   "execution_count": 1,
   "id": "8d0fd34c",
   "metadata": {},
   "outputs": [
    {
     "name": "stdout",
     "output_type": "stream",
     "text": [
      "Enter the radius:3\n",
      "\n",
      "The area of the circle is 28.274333882308138\n"
     ]
    }
   ],
   "source": [
    "r = float(input('Enter the radius:'))\n",
    "\n",
    "#calculating area\n",
    "import math \n",
    "area = math.pi*r*r\n",
    "\n",
    "#displaying area\n",
    "print('\\nThe area of the circle is', area)"
   ]
  },
  {
   "cell_type": "code",
   "execution_count": 2,
   "id": "77215c1c",
   "metadata": {},
   "outputs": [
    {
     "name": "stdout",
     "output_type": "stream",
     "text": [
      "Enter the name:  Anisha\n",
      "Enter the roll number:  21\n",
      "Enter the mark: 78\n",
      "Name:  Anisha\n",
      "Roll No:  21\n",
      "Mark: 78\n"
     ]
    }
   ],
   "source": [
    "def main():\n",
    "    name = input(\"Enter the name: \")\n",
    "    roll_number = input(\"Enter the roll number: \")\n",
    "    mark = input(\"Enter the mark: \")\n",
    "\n",
    "    print(\"Name:\", name)\n",
    "    print(\"Roll No:\", roll_number)\n",
    "    print(\"Mark:\", mark)\n",
    "\n",
    "if __name__ == \"__main__\":\n",
    "    main()"
   ]
  },
  {
   "cell_type": "code",
   "execution_count": 3,
   "id": "db9ce30e",
   "metadata": {},
   "outputs": [
    {
     "name": "stdout",
     "output_type": "stream",
     "text": [
      "Maximum value in [12, 3, 47, 10] is 47\n"
     ]
    }
   ],
   "source": [
    "l1 = [12, 3, 47, 10]\n",
    "\n",
    "print('Maximum value in', l1, 'is', max(l1))"
   ]
  },
  {
   "cell_type": "code",
   "execution_count": 4,
   "id": "56416d7f",
   "metadata": {},
   "outputs": [
    {
     "name": "stdout",
     "output_type": "stream",
     "text": [
      "The sum of current number 1 and previous number 0 is 1\n",
      "The sum of current number 2 and previous number 1 is 3\n",
      "The sum of current number 3 and previous number 2 is 5\n",
      "The sum of current number 4 and previous number 3 is 7\n",
      "The sum of current number 5 and previous number 4 is 9\n",
      "The sum of current number 6 and previous number 5 is 11\n",
      "The sum of current number 7 and previous number 6 is 13\n",
      "The sum of current number 8 and previous number 7 is 15\n",
      "The sum of current number 9 and previous number 8 is 17\n",
      "The sum of current number 10 and previous number 9 is 19\n"
     ]
    }
   ],
   "source": [
    "l = range(1,11)\n",
    "\n",
    "#calculating sum of current number and previous number\n",
    "for i in l:\n",
    "    j = i-1\n",
    "    sum1 = i+j\n",
    "    #printing the sum of current and previous number\n",
    "    print('The sum of current number',i,'and previous number',j,'is', sum1)"
   ]
  },
  {
   "cell_type": "code",
   "execution_count": 5,
   "id": "d9fddd56",
   "metadata": {},
   "outputs": [
    {
     "name": "stdout",
     "output_type": "stream",
     "text": [
      "Enter a list of numbers separated by commas:  10, 20,33,46,55\n",
      "Numbers divisible by 5: 10, 20, 55\n"
     ]
    }
   ],
   "source": [
    "def main():\n",
    "    input_str = input(\"Enter a list of numbers separated by commas: \")\n",
    "    numbers = [int(x.strip()) for x in input_str.split(\",\")]\n",
    "    \n",
    "    divisible_by_5 = [num for num in numbers if num % 5 == 0]\n",
    "    \n",
    "    print(\"Numbers divisible by 5:\", \", \".join(map(str, divisible_by_5)))\n",
    "\n",
    "if __name__ == \"__main__\":\n",
    "    main()\n"
   ]
  },
  {
   "cell_type": "code",
   "execution_count": 6,
   "id": "d50395f5",
   "metadata": {},
   "outputs": [
    {
     "name": "stdout",
     "output_type": "stream",
     "text": [
      "Enter the number: 3\n",
      "3 is a prime number\n"
     ]
    }
   ],
   "source": [
    "num = int(input('Enter the number: '))\n",
    "\n",
    "#checking prime or not\n",
    "if num > 1:  \n",
    "   for i in range(2,num):  \n",
    "       if (num % i) == 0:  \n",
    "           print(num,\"is not a prime number\")  \n",
    "           break  \n",
    "   else:  \n",
    "       print(num,\"is a prime number\")  \n",
    "         \n",
    "else:  \n",
    "   print('The number is zero') "
   ]
  },
  {
   "cell_type": "code",
   "execution_count": 7,
   "id": "8f751fb8",
   "metadata": {},
   "outputs": [
    {
     "name": "stdout",
     "output_type": "stream",
     "text": [
      "Reversed list: [70, 30, 40, 10]\n"
     ]
    }
   ],
   "source": [
    "def reverse_list(input_list):\n",
    "    reversed_list = []\n",
    "    for i in range(len(input_list) - 1, -1, -1):\n",
    "        reversed_list.append(input_list[i])\n",
    "    return reversed_list\n",
    "\n",
    "input_list = [10, 40, 30, 70]\n",
    "reversed_list = reverse_list(input_list)\n",
    "print(\"Reversed list:\", reversed_list)"
   ]
  },
  {
   "cell_type": "code",
   "execution_count": 8,
   "id": "c790e5c6",
   "metadata": {},
   "outputs": [
    {
     "name": "stdout",
     "output_type": "stream",
     "text": [
      "*\n",
      "**\n",
      "***\n",
      "****\n"
     ]
    }
   ],
   "source": [
    "def print_pattern(rows):\n",
    "    for i in range(1, rows + 1):\n",
    "        print(\"*\" * i)\n",
    "\n",
    "\n",
    "rows = 4\n",
    "print_pattern(rows)"
   ]
  },
  {
   "cell_type": "code",
   "execution_count": 9,
   "id": "9dd81597",
   "metadata": {},
   "outputs": [
    {
     "name": "stdout",
     "output_type": "stream",
     "text": [
      "Maximum value in [34, 12, 7] is 34\n"
     ]
    }
   ],
   "source": [
    "l1 = [ 34,12,7]\n",
    "\n",
    "print('Maximum value in', l1, 'is', max(l1))"
   ]
  },
  {
   "cell_type": "code",
   "execution_count": 10,
   "id": "ab2881de",
   "metadata": {},
   "outputs": [
    {
     "name": "stdout",
     "output_type": "stream",
     "text": [
      "*\n",
      "**\n",
      "***\n",
      "****\n",
      "*****\n",
      "****\n",
      "***\n",
      "**\n",
      "*\n"
     ]
    }
   ],
   "source": [
    "def print_pattern(rows):\n",
    "    for i in range(1, rows + 1):\n",
    "        print(\"*\" * i)\n",
    "    for i in range(rows - 1, 0, -1):\n",
    "        print(\"*\" * i)\n",
    "\n",
    "rows = 5\n",
    "print_pattern(rows)"
   ]
  }
 ],
 "metadata": {
  "kernelspec": {
   "display_name": "Python 3",
   "language": "python",
   "name": "python3"
  },
  "language_info": {
   "codemirror_mode": {
    "name": "ipython",
    "version": 3
   },
   "file_extension": ".py",
   "mimetype": "text/x-python",
   "name": "python",
   "nbconvert_exporter": "python",
   "pygments_lexer": "ipython3",
   "version": "3.11.5"
  }
 },
 "nbformat": 4,
 "nbformat_minor": 5
}
