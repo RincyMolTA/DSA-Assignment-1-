{
 "cells": [
  {
   "cell_type": "markdown",
   "id": "b4b49a68",
   "metadata": {},
   "source": [
    "# Python practice prblem 2"
   ]
  },
  {
   "cell_type": "code",
   "execution_count": 1,
   "id": "e03a4613",
   "metadata": {},
   "outputs": [
    {
     "name": "stdout",
     "output_type": "stream",
     "text": [
      "Enter a string value:  assembly\n",
      " =1, a=1, s=2, e=1, m=1, b=1, l=1, y=1, "
     ]
    }
   ],
   "source": [
    "def count_characters(input_string):\n",
    "    char_count = {}\n",
    "    for char in input_string:\n",
    "        if char in char_count:\n",
    "            char_count[char] += 1\n",
    "        else:\n",
    "            char_count[char] = 1\n",
    "    return char_count\n",
    "\n",
    "input_string = input(\"Enter a string value: \")\n",
    "\n",
    "character_count = count_characters(input_string)\n",
    "\n",
    "for char, count in character_count.items():\n",
    "    print(f\"{char}={count}\", end=\", \")"
   ]
  },
  {
   "cell_type": "code",
   "execution_count": 2,
   "id": "dd6f5b30",
   "metadata": {},
   "outputs": [
    {
     "name": "stdout",
     "output_type": "stream",
     "text": [
      "Maximum value in [34, 12, 7] is 34\n"
     ]
    }
   ],
   "source": [
    "l1 = [ 34,12,7]\n",
    "\n",
    "print('Maximum value in', l1, 'is', max(l1))"
   ]
  },
  {
   "cell_type": "code",
   "execution_count": 3,
   "id": "5c11f91f",
   "metadata": {},
   "outputs": [
    {
     "name": "stdout",
     "output_type": "stream",
     "text": [
      "Enter the base: 2\n",
      "Enter the exponent: 3\n",
      "The result of 2 raised to the power of 3 is: 8\n"
     ]
    }
   ],
   "source": [
    "def exponent(base, exp):\n",
    "    result = 1\n",
    "    for _ in range(exp):\n",
    "        result *= base\n",
    "    return result\n",
    "\n",
    "def main():\n",
    "    base = int(input(\"Enter the base: \"))\n",
    "    exp = int(input(\"Enter the exponent: \"))\n",
    "    result = exponent(base, exp)\n",
    "    print(f\"The result of {base} raised to the power of {exp} is: {result}\")\n",
    "\n",
    "if __name__ == \"__main__\":\n",
    "    main()"
   ]
  },
  {
   "cell_type": "code",
   "execution_count": 4,
   "id": "11ce9331",
   "metadata": {},
   "outputs": [
    {
     "name": "stdout",
     "output_type": "stream",
     "text": [
      "Enter a positive integer: 4\n",
      "The sum of the cubes of all positive integers smaller than 4 is: 36\n"
     ]
    }
   ],
   "source": [
    "def sum_of_cubes(n):\n",
    "    if n <= 0:\n",
    "        return \"Input must be a positive integer.\"\n",
    "    \n",
    "    sum_cubes = sum([i**3 for i in range(1, n)])\n",
    "    return sum_cubes\n",
    "\n",
    "def main():\n",
    "    try:\n",
    "        num = int(input(\"Enter a positive integer: \"))\n",
    "        result = sum_of_cubes(num)\n",
    "        print(f\"The sum of the cubes of all positive integers smaller than {num} is: {result}\")\n",
    "    except ValueError:\n",
    "        print(\"Invalid input. Please enter a valid positive integer.\")\n",
    "\n",
    "if __name__ == \"__main__\":\n",
    "    main()"
   ]
  },
  {
   "cell_type": "code",
   "execution_count": 5,
   "id": "8c2d7ed8",
   "metadata": {},
   "outputs": [
    {
     "name": "stdout",
     "output_type": "stream",
     "text": [
      "1\n",
      "Fizz\n",
      "3\n",
      "Fizz\n",
      "Buzz\n",
      "Fizz\n",
      "7\n",
      "Fizz\n",
      "9\n",
      "FizzBuzz\n"
     ]
    }
   ],
   "source": [
    "for i in range(1, 11):\n",
    "    if i % 2 == 0 and i % 5 == 0:\n",
    "        print(\"FizzBuzz\")\n",
    "    elif i % 2 == 0:\n",
    "        print(\"Fizz\")\n",
    "    elif i % 5 == 0:\n",
    "        print(\"Buzz\")\n",
    "    else:\n",
    "        print(i)"
   ]
  },
  {
   "cell_type": "code",
   "execution_count": 6,
   "id": "481ac8d9",
   "metadata": {},
   "outputs": [
    {
     "name": "stdout",
     "output_type": "stream",
     "text": [
      "Enter a list of numbers separated by commas: 2, 3, 4, 2, 5, 2\n",
      "Most frequent item: 2\n"
     ]
    }
   ],
   "source": [
    "from collections import Counter\n",
    "\n",
    "def most_frequent_item(numbers):\n",
    "    # Count the occurrences of each item in the list\n",
    "    counts = Counter(numbers)\n",
    "    # Find the most common item\n",
    "    most_common_item = counts.most_common(1)[0][0]\n",
    "    return most_common_item\n",
    "\n",
    "def main():\n",
    "    input_str = input(\"Enter a list of numbers separated by commas: \")\n",
    "    numbers = [int(x.strip()) for x in input_str.split(\",\")]\n",
    "    \n",
    "    most_frequent = most_frequent_item(numbers)\n",
    "    print(\"Most frequent item:\", most_frequent)\n",
    "\n",
    "if __name__ == \"__main__\":\n",
    "    main()"
   ]
  },
  {
   "cell_type": "code",
   "execution_count": 7,
   "id": "b3cca406",
   "metadata": {},
   "outputs": [
    {
     "name": "stdout",
     "output_type": "stream",
     "text": [
      "Enter a list of numbers separated by commas: 2,1,3,1\n",
      "Sum of squares of the numbers: 15\n"
     ]
    }
   ],
   "source": [
    "def sum_of_squares(numbers):\n",
    "    sum_squares = sum(num**2 for num in numbers)\n",
    "    return sum_squares\n",
    "\n",
    "def main():\n",
    "    input_str = input(\"Enter a list of numbers separated by commas: \")\n",
    "    numbers = [int(x.strip()) for x in input_str.split(\",\")]\n",
    "    \n",
    "    sum_squares = sum_of_squares(numbers)\n",
    "    print(\"Sum of squares of the numbers:\", sum_squares)\n",
    "\n",
    "if __name__ == \"__main__\":\n",
    "    main()\n",
    "    "
   ]
  },
  {
   "cell_type": "code",
   "execution_count": 8,
   "id": "47255537",
   "metadata": {},
   "outputs": [
    {
     "name": "stdout",
     "output_type": "stream",
     "text": [
      "1-odd\n",
      "2-even\n",
      "3-odd\n",
      "4-even\n",
      "5-odd\n",
      "6-even\n",
      "7-odd\n",
      "8-even\n",
      "9-odd\n",
      "10-even\n",
      "11-odd\n",
      "12-even\n",
      "13-odd\n",
      "14-even\n",
      "15-odd\n"
     ]
    }
   ],
   "source": [
    "def main():\n",
    "    for num in range(1, 16):\n",
    "        if num % 2 == 0:\n",
    "            print(f\"{num}-even\")\n",
    "        else:\n",
    "            print(f\"{num}-odd\")\n",
    "\n",
    "if __name__ == \"__main__\":\n",
    "    main()"
   ]
  },
  {
   "cell_type": "code",
   "execution_count": 9,
   "id": "1670c5e3",
   "metadata": {},
   "outputs": [
    {
     "name": "stdout",
     "output_type": "stream",
     "text": [
      "Temperature in Fahrenheit: 41 \n",
      "Temperature in Celsius: 5.0\n"
     ]
    }
   ],
   "source": [
    "def fahrenheit_to_celsius(fahrenheit):\n",
    "    celsius = (fahrenheit - 32) * 5 / 9\n",
    "    return celsius\n",
    "\n",
    "def celsius_to_fahrenheit(celsius):\n",
    "    fahrenheit = (celsius * 9 / 5) + 32\n",
    "    return fahrenheit\n",
    "\n",
    "def main():\n",
    "    temperature_f = float(input(\"Temperature in Fahrenheit: \"))\n",
    "    \n",
    "    temperature_c = fahrenheit_to_celsius(temperature_f)\n",
    "    print(\"Temperature in Celsius:\", temperature_c)\n",
    "\n",
    "if __name__ == \"__main__\":\n",
    "    main()"
   ]
  },
  {
   "cell_type": "code",
   "execution_count": 10,
   "id": "e6916fc5",
   "metadata": {},
   "outputs": [
    {
     "name": "stdout",
     "output_type": "stream",
     "text": [
      "Enter a non-negative integer: 3\n",
      "Factorial of 3 is: 6\n"
     ]
    }
   ],
   "source": [
    "def factorial(n):\n",
    "    if n == 0:\n",
    "        return 1\n",
    "    result = 1\n",
    "    for i in range(1, n + 1):\n",
    "        result *= i\n",
    "    return result\n",
    "\n",
    "def main():\n",
    "    number = int(input(\"Enter a non-negative integer: \"))\n",
    "    if number < 0:\n",
    "        print(\"Factorial is not defined for negative numbers.\")\n",
    "    else:\n",
    "        result = factorial(number)\n",
    "        print(\"Factorial of\", number, \"is:\", result)\n",
    "\n",
    "if __name__ == \"__main__\":\n",
    "    main()"
   ]
  },
  {
   "cell_type": "code",
   "execution_count": null,
   "id": "e59eb7b0",
   "metadata": {},
   "outputs": [],
   "source": []
  }
 ],
 "metadata": {
  "kernelspec": {
   "display_name": "Python 3",
   "language": "python",
   "name": "python3"
  },
  "language_info": {
   "codemirror_mode": {
    "name": "ipython",
    "version": 3
   },
   "file_extension": ".py",
   "mimetype": "text/x-python",
   "name": "python",
   "nbconvert_exporter": "python",
   "pygments_lexer": "ipython3",
   "version": "3.11.5"
  }
 },
 "nbformat": 4,
 "nbformat_minor": 5
}
